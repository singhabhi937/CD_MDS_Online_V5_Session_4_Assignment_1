{
 "cells": [
  {
   "cell_type": "code",
   "execution_count": 8,
   "metadata": {},
   "outputs": [],
   "source": [
    "# Write a Python Program(with class concepts) to find the area of the triangle using the below\n",
    "# formula.\n",
    "\n",
    "# area = (s*(s-a)*(s-b)*(s-c)) ** 0.5\n",
    "\n",
    "# Function to take the length of the sides of triangle from user should be defined in the parent\n",
    "# class and function to calculate the area should be defined in subclass."
   ]
  },
  {
   "cell_type": "code",
   "execution_count": 1,
   "metadata": {},
   "outputs": [],
   "source": [
    "class Parent():\n",
    "        length1=0\n",
    "        length2=0\n",
    "        length3=0\n",
    "        def __init__(self):\n",
    "            print(\"Enter the dimensions of the Traingle\")\n",
    "            \n",
    "        \n",
    "        def getSides(self):\n",
    "            self.length1=int(input(\"Enter side 1 \"))\n",
    "            self.length2=int(input(\"Enter side 2 \"))\n",
    "            self.length3=int(input(\"Enter side 3 \"))\n",
    "            print(\"The dimensions of the Triangle are side1=%d, side2=%d, side3=%d\"%(self.length1,self.length2,self.length3))\n",
    "    \n",
    "class GetArea(Parent):\n",
    "    def __init__(self):\n",
    "        super(GetArea,self).__init__()\n",
    "    def area(self):\n",
    "        s=(self.length1+self.length2+self.length3)/2\n",
    "        area=(s*(s-self.length1)*(s-self.length2)*(s-self.length3))**(0.5)\n",
    "        print(area)\n",
    "    "
   ]
  },
  {
   "cell_type": "code",
   "execution_count": 2,
   "metadata": {},
   "outputs": [
    {
     "name": "stdout",
     "output_type": "stream",
     "text": [
      "Enter the dimensions of the Traingle\n"
     ]
    }
   ],
   "source": [
    "triangle=GetArea()"
   ]
  },
  {
   "cell_type": "code",
   "execution_count": 3,
   "metadata": {},
   "outputs": [
    {
     "name": "stdout",
     "output_type": "stream",
     "text": [
      "Enter side 1 3\n",
      "Enter side 2 4\n",
      "Enter side 3 5\n",
      "The dimensions of the Triangle are side1=3, side2=4, side3=5\n"
     ]
    }
   ],
   "source": [
    "triangle.getSides()"
   ]
  },
  {
   "cell_type": "code",
   "execution_count": 4,
   "metadata": {},
   "outputs": [
    {
     "name": "stdout",
     "output_type": "stream",
     "text": [
      "6.0\n"
     ]
    }
   ],
   "source": [
    "triangle.area()"
   ]
  },
  {
   "cell_type": "code",
   "execution_count": null,
   "metadata": {},
   "outputs": [],
   "source": []
  },
  {
   "cell_type": "code",
   "execution_count": null,
   "metadata": {},
   "outputs": [],
   "source": []
  }
 ],
 "metadata": {
  "kernelspec": {
   "display_name": "Python 3",
   "language": "python",
   "name": "python3"
  },
  "language_info": {
   "codemirror_mode": {
    "name": "ipython",
    "version": 3
   },
   "file_extension": ".py",
   "mimetype": "text/x-python",
   "name": "python",
   "nbconvert_exporter": "python",
   "pygments_lexer": "ipython3",
   "version": "3.6.4"
  }
 },
 "nbformat": 4,
 "nbformat_minor": 2
}
